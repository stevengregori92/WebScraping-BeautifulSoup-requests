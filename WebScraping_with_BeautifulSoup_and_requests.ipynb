{
  "nbformat": 4,
  "nbformat_minor": 0,
  "metadata": {
    "colab": {
      "provenance": [],
      "authorship_tag": "ABX9TyMeeyTTgWDTA7dil39PgrKq",
      "include_colab_link": true
    },
    "kernelspec": {
      "name": "python3",
      "display_name": "Python 3"
    },
    "language_info": {
      "name": "python"
    }
  },
  "cells": [
    {
      "cell_type": "markdown",
      "metadata": {
        "id": "view-in-github",
        "colab_type": "text"
      },
      "source": [
        "<a href=\"https://colab.research.google.com/github/stevengregori92/WebScraping-BeautifulSoup-requests/blob/main/WebScraping_with_BeautifulSoup_and_requests.ipynb\" target=\"_parent\"><img src=\"https://colab.research.google.com/assets/colab-badge.svg\" alt=\"Open In Colab\"/></a>"
      ]
    },
    {
      "cell_type": "code",
      "execution_count": null,
      "metadata": {
        "id": "FBSfaaZ0jF4B"
      },
      "outputs": [],
      "source": [
        "from bs4 import BeautifulSoup\n",
        "import requests\n",
        "import time\n",
        "\n",
        "print(\"Put skills that you're not familiar\")\n",
        "unfamiliar_skills = input('>')\n",
        "print(f\"Filtering out {unfamiliar_skills}\")\n",
        "\n",
        "def find_jobs():\n",
        "  html_text = requests.get('https://www.timesjobs.com/candidate/job-search.html?searchType=personalizedSearch&from=submit&txtKeywords=python&txtLocation=').text\n",
        "  soup = BeautifulSoup(html_text, 'lxml')\n",
        "  jobs = soup.find_all('li', class_='clearfix job-bx wht-shd-bx')\n",
        "  for job in jobs:\n",
        "    job_published_date = job.find('span', class_='sim-posted').span.text\n",
        "    if 'days' in job_published_date:\n",
        "      company_name = job.find('h3', class_='joblist-comp-name').text.replace(' ', '')\n",
        "      skills = job.find('span', class_='srp-skills').text.replace(' ', '')\n",
        "      more_info = job.header.h2.a['href']\n",
        "      if unfamiliar_skills not in skills:\n",
        "          print(f'Company Name: {company_name.strip()}')\n",
        "          print(f'Required Skills: {skills.strip()}')\n",
        "          print(f'More info: {more_info}')\n",
        "          print('')\n",
        "\n",
        "if __name__ == '__main__':\n",
        "  while True:\n",
        "    find_jobs()\n",
        "    time_wait = 10\n",
        "    print(f'Waiting {time_wait} minutes...')\n",
        "    time.sleep(time_wait*60)"
      ]
    }
  ]
}